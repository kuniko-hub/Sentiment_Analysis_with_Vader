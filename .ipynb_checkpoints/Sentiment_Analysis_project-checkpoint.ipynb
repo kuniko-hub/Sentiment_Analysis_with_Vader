{
 "cells": [
  {
   "cell_type": "markdown",
   "metadata": {
    "collapsed": true,
    "jupyter": {
     "outputs_hidden": true
    }
   },
   "source": [
    "___\n",
    "\n",
    "# Sentiment Analysis Project\n",
    "\n",
    "**copyright by pierian Data Inc.**\n",
    "___"
   ]
  },
  {
   "cell_type": "code",
   "execution_count": 1,
   "metadata": {},
   "outputs": [],
   "source": [
    "import spacy\n",
    "nlp = spacy.load('en_core_web_md')"
   ]
  },
  {
   "cell_type": "code",
   "execution_count": 2,
   "metadata": {},
   "outputs": [
    {
     "data": {
      "text/plain": [
       "array([ 7.1524e+00,  3.0356e+00, -8.7040e+00,  9.3788e-01, -3.6781e+00,\n",
       "       -3.5128e-02,  1.2568e+00,  2.4432e-02,  2.8924e-01,  4.5054e+00,\n",
       "        6.0218e+00, -4.2026e+00,  9.0255e-02,  9.0543e-01,  8.5922e+00,\n",
       "       -4.6930e-01, -1.9102e+00, -5.6990e+00,  2.1982e+00, -3.7935e+00,\n",
       "        5.4026e+00, -2.9233e-01,  2.9350e-01, -1.0115e+01, -2.6230e+00,\n",
       "       -6.9783e-01, -2.0073e+00, -1.3364e+01,  1.0708e+00,  7.3771e+00,\n",
       "       -9.1410e+00, -1.5965e-02,  2.3649e+00, -1.1323e+01,  1.4295e+00,\n",
       "        4.3538e+00, -4.0068e+00,  8.4232e+00,  5.0867e-01,  1.5895e+00,\n",
       "        8.4286e-01, -2.9992e-01,  3.4886e+00, -2.1447e+00,  1.1970e-01,\n",
       "        1.1298e+01, -4.7200e+00,  1.1895e+00,  7.4041e-02,  3.5090e+00,\n",
       "        2.4286e+00,  2.6979e+00, -4.3913e+00,  5.2078e+00, -8.0435e-01,\n",
       "        2.1643e-01,  3.1238e+00,  4.6898e+00,  5.7670e+00,  6.8636e+00,\n",
       "       -1.1098e+00, -1.9996e+00, -5.1530e-01,  6.4227e-01, -3.9796e+00,\n",
       "        7.3602e+00, -9.0184e+00, -3.0735e+00, -3.4781e-01,  2.5920e+00,\n",
       "        5.3368e-01,  9.8701e+00,  5.5567e+00,  3.5266e+00, -7.5738e+00,\n",
       "       -1.8986e+00,  3.3407e+00, -2.3705e+00, -1.5921e+00, -1.1972e-01,\n",
       "        8.5964e+00,  4.1108e-01,  4.0018e+00, -2.3078e+00,  1.3603e+00,\n",
       "        2.9069e+00,  3.4699e+00,  9.1838e+00, -5.2888e+00, -7.4585e+00,\n",
       "       -8.4226e-01,  1.7840e+00,  4.3788e+00,  6.5054e+00, -6.6481e+00,\n",
       "       -4.9555e+00,  5.3280e+00, -3.1821e+00,  8.0280e+00, -9.4352e+00,\n",
       "       -7.7132e+00, -3.9029e+00,  4.4030e+00, -1.2687e+01, -3.6187e-01,\n",
       "       -2.5169e+00,  5.4831e+00, -6.3604e+00, -3.4834e+00,  5.7793e+00,\n",
       "        5.8891e-01,  1.5503e+00, -1.2708e+00, -1.7206e+00, -2.3285e+00,\n",
       "        3.7623e-01,  2.6330e-01, -4.6047e+00, -1.2573e+00, -8.8392e-01,\n",
       "       -1.1278e+00,  1.4490e+00, -4.1546e+00,  1.0320e+01, -5.2909e+00,\n",
       "       -5.7500e+00, -1.1544e+00, -3.8737e+00,  5.7776e+00, -2.1946e+00,\n",
       "        7.7214e-01,  1.2607e+00,  1.4478e+00, -4.1477e-01, -1.6250e+00,\n",
       "       -1.1623e+00,  2.3703e-01,  2.1163e+00, -2.6250e+00, -5.6538e+00,\n",
       "       -3.1735e+00,  1.5834e+00, -8.3559e+00, -2.4320e-01,  2.5355e+00,\n",
       "        3.0970e+00, -3.2146e+00,  2.7464e+00, -6.6852e-01,  6.6259e-01,\n",
       "       -5.4895e+00,  3.6762e-01, -8.6908e+00, -3.3515e+00,  4.0206e+00,\n",
       "        6.2379e+00, -4.5652e+00,  7.6659e-01,  3.8762e+00, -4.0073e-02,\n",
       "        2.7331e+00,  5.6675e+00, -4.0005e-01, -1.2775e+00, -1.1835e+00,\n",
       "        8.6028e-01, -7.8146e-01,  2.7581e+00, -3.2726e+00, -4.2365e+00,\n",
       "       -4.9157e+00,  3.8368e+00, -1.7483e+00, -9.1865e+00, -3.7182e+00,\n",
       "       -1.1939e+00,  2.0260e+00, -2.1980e+00, -1.6466e+00, -4.4095e+00,\n",
       "       -2.2059e+00, -3.8953e+00,  1.7238e+00,  6.3970e+00,  5.6845e+00,\n",
       "        3.5531e+00,  2.6182e+00,  1.4808e+00, -1.6783e-01, -7.8245e+00,\n",
       "        1.6398e+00,  5.8301e+00, -5.2597e+00, -5.3206e+00, -3.1777e-01,\n",
       "       -2.0100e+00, -5.7451e-01,  2.6066e+00, -4.1862e+00,  5.9533e+00,\n",
       "        5.0412e+00,  6.3405e-01, -1.2307e-02,  1.1231e+00, -2.3890e+00,\n",
       "        3.3926e+00,  6.8755e+00, -1.8609e+00, -4.5793e-01,  4.9218e-01,\n",
       "        1.8811e+00, -3.0406e+00, -9.1859e+00,  3.7291e+00, -6.7097e-01,\n",
       "        1.0478e+00,  7.2784e+00,  3.5612e+00, -6.3694e+00, -2.7437e+00,\n",
       "        5.8578e+00, -2.9354e+00, -4.6456e+00,  2.5739e+00, -5.5248e-01,\n",
       "       -5.6840e-01, -5.6982e-01,  1.1028e+01, -5.4180e+00,  3.8719e+00,\n",
       "        2.4812e+00, -3.7842e+00,  3.2180e+00,  3.6478e+00, -1.5741e-01,\n",
       "       -5.0254e-01, -7.9044e+00,  1.2638e+00, -9.4988e-01, -2.7031e+00,\n",
       "        1.2585e+00, -5.0397e+00,  4.6032e+00, -3.7923e+00,  6.5586e-01,\n",
       "        1.7099e+00, -5.2034e+00,  5.0274e+00,  1.2354e+00, -8.9271e-01,\n",
       "        1.8441e-01, -2.0164e+00, -4.9154e-01, -3.8477e-01, -3.3037e+00,\n",
       "       -3.0507e+00, -1.5563e+00,  8.4706e+00,  5.5195e-01,  3.5924e+00,\n",
       "        7.4402e+00,  3.2487e+00,  1.2938e+00,  3.1589e+00, -8.6562e+00,\n",
       "       -4.6586e+00, -9.3928e+00,  6.7224e+00, -1.1221e+01,  2.4378e-01,\n",
       "        9.2144e+00,  2.9684e+00, -6.5009e+00, -3.0252e+00, -4.7096e+00,\n",
       "        1.1162e+00,  4.5474e+00, -1.2334e+00, -7.6379e-01, -1.6794e-01,\n",
       "       -4.3752e+00,  1.8487e+00,  2.0225e+00, -1.6813e+00,  3.6997e+00,\n",
       "        7.7026e-01, -7.2377e+00, -3.6677e+00,  4.2513e+00, -4.0179e+00,\n",
       "       -5.7712e+00,  4.7644e+00,  4.2350e+00, -1.8427e+00,  3.6947e-01,\n",
       "        1.3165e+00,  1.1650e+00, -1.3928e+00, -3.9125e+00,  4.8484e-01],\n",
       "      dtype=float32)"
      ]
     },
     "execution_count": 2,
     "metadata": {},
     "output_type": "execute_result"
    }
   ],
   "source": [
    "nlp(u'sky').vector"
   ]
  },
  {
   "cell_type": "code",
   "execution_count": 3,
   "metadata": {},
   "outputs": [],
   "source": [
    "from scipy import spatial"
   ]
  },
  {
   "cell_type": "code",
   "execution_count": 7,
   "metadata": {},
   "outputs": [],
   "source": [
    "cosine_similarity = lambda x,y: 1 - spatial.distance.cosine(x,y)"
   ]
  },
  {
   "cell_type": "code",
   "execution_count": 5,
   "metadata": {},
   "outputs": [],
   "source": [
    "sky = nlp.vocab['sky'].vector\n",
    "sunny = nlp.vocab['sunny'].vector\n",
    "dull = nlp.vocab['dull'].vector\n",
    "\n",
    "new_vector = sky - sunny + dull"
   ]
  },
  {
   "cell_type": "code",
   "execution_count": 29,
   "metadata": {},
   "outputs": [
    {
     "data": {
      "text/plain": [
       "(300,)"
      ]
     },
     "execution_count": 29,
     "metadata": {},
     "output_type": "execute_result"
    }
   ],
   "source": [
    "new_vector.shape"
   ]
  },
  {
   "cell_type": "markdown",
   "metadata": {},
   "source": [
    "#### a function that takes in 3 strings, performs a-b+c arithmetic, and returns a top-ten result"
   ]
  },
  {
   "cell_type": "code",
   "execution_count": 30,
   "metadata": {},
   "outputs": [],
   "source": [
    "def vector_math(a,b,c):\n",
    "    \n",
    "    a = nlp.vocab[a].vector\n",
    "    b = nlp.vocab[b].vector\n",
    "    c = nlp.vocab[c].vector\n",
    "\n",
    "    new_vector = a - b + c\n",
    "    computed_similarities = []\n",
    "\n",
    "    for word in nlp.vocab:\n",
    "        if word.has_vector:\n",
    "            if word.is_lower:\n",
    "                if word.is_alpha:\n",
    "                    similarity = cosine_similarity(new_vector,word.vector)\n",
    "                    computed_similarities.append((word,similarity))\n",
    "\n",
    "    computed_similarities = sorted(computed_similarities, key=lambda item:-item[1])\n",
    "\n",
    "    return [computed_similarity[0].text for computed_similarity in computed_similarities[:10]]"
   ]
  },
  {
   "cell_type": "code",
   "execution_count": 31,
   "metadata": {},
   "outputs": [
    {
     "data": {
      "text/plain": [
       "['king',\n",
       " 'and',\n",
       " 'that',\n",
       " 'havin',\n",
       " 'where',\n",
       " 'she',\n",
       " 'they',\n",
       " 'woman',\n",
       " 'somethin',\n",
       " 'there']"
      ]
     },
     "execution_count": 31,
     "metadata": {},
     "output_type": "execute_result"
    }
   ],
   "source": [
    "vector_math('king','man','woman')"
   ]
  },
  {
   "cell_type": "markdown",
   "metadata": {},
   "source": [
    "## Perform VADER Sentiment Analysis on my own review\n",
    "code that returns a set of SentimentIntensityAnalyzer polarity scores based on my own written review."
   ]
  },
  {
   "cell_type": "code",
   "execution_count": 17,
   "metadata": {},
   "outputs": [
    {
     "name": "stderr",
     "output_type": "stream",
     "text": [
      "[nltk_data] Downloading package vader_lexicon to\n",
      "[nltk_data]     /Users/kodaikunimitsu/nltk_data...\n"
     ]
    },
    {
     "data": {
      "text/plain": [
       "True"
      ]
     },
     "execution_count": 17,
     "metadata": {},
     "output_type": "execute_result"
    }
   ],
   "source": [
    "import nltk\n",
    "nltk.download('vader_lexicon')"
   ]
  },
  {
   "cell_type": "code",
   "execution_count": 18,
   "metadata": {},
   "outputs": [],
   "source": [
    "# vader is a model that already learned about 7500 words so you don't need to train this model\n",
    "from nltk.sentiment.vader import SentimentIntensityAnalyzer\n",
    "\n",
    "sid = SentimentIntensityAnalyzer()"
   ]
  },
  {
   "cell_type": "code",
   "execution_count": 19,
   "metadata": {},
   "outputs": [],
   "source": [
    "# Write a original review as one continuous string\n",
    "review = 'This movie is just meaningless for my life, nothing special happend.'"
   ]
  },
  {
   "cell_type": "code",
   "execution_count": 21,
   "metadata": {},
   "outputs": [],
   "source": [
    "# Obtain the sid scores\n",
    "a = sid.polarity_scores(review)"
   ]
  },
  {
   "cell_type": "code",
   "execution_count": 23,
   "metadata": {},
   "outputs": [
    {
     "data": {
      "text/plain": [
       "-0.6319"
      ]
     },
     "execution_count": 23,
     "metadata": {},
     "output_type": "execute_result"
    }
   ],
   "source": [
    "a['compound']"
   ]
  },
  {
   "cell_type": "markdown",
   "metadata": {},
   "source": [
    "### a function that takes in a review and returns a score of \"Positive\", \"Negative\" or \"Neutral\""
   ]
  },
  {
   "cell_type": "code",
   "execution_count": 26,
   "metadata": {},
   "outputs": [],
   "source": [
    "def review_rating(string):\n",
    "    \n",
    "    rating = sid.polarity_scores(string)\n",
    "    compound = rating['compound']\n",
    "    \n",
    "    if compound > 0:\n",
    "        return 'positive'\n",
    "    elif compound < 0:\n",
    "        return 'Negative'\n",
    "    else:\n",
    "        return 'Neutral'\n",
    "    "
   ]
  },
  {
   "cell_type": "code",
   "execution_count": 27,
   "metadata": {},
   "outputs": [
    {
     "data": {
      "text/plain": [
       "'Negative'"
      ]
     },
     "execution_count": 27,
     "metadata": {},
     "output_type": "execute_result"
    }
   ],
   "source": [
    "# Test the function on my review above:\n",
    "review_rating(review)"
   ]
  },
  {
   "cell_type": "markdown",
   "metadata": {},
   "source": [
    "## Fin!"
   ]
  }
 ],
 "metadata": {
  "kernelspec": {
   "display_name": "Python 3 (ipykernel)",
   "language": "python",
   "name": "python3"
  },
  "language_info": {
   "codemirror_mode": {
    "name": "ipython",
    "version": 3
   },
   "file_extension": ".py",
   "mimetype": "text/x-python",
   "name": "python",
   "nbconvert_exporter": "python",
   "pygments_lexer": "ipython3",
   "version": "3.11.3"
  }
 },
 "nbformat": 4,
 "nbformat_minor": 4
}
